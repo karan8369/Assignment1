{
 "cells": [
  {
   "cell_type": "code",
   "execution_count": 1,
   "id": "c13062e8",
   "metadata": {},
   "outputs": [
    {
     "name": "stdout",
     "output_type": "stream",
     "text": [
      "Enter the number terms :10\n",
      "0 1 1 2 3 5 8 13 21 34 "
     ]
    }
   ],
   "source": [
    "n = int(input(\"Enter the number terms :\"))\n",
    "a = 0\n",
    "b = 1\n",
    "s = 0\n",
    "for i in range(n):\n",
    "    print(s,end=\" \")\n",
    "    s = a + b\n",
    "    b = a\n",
    "    a = s"
   ]
  },
  {
   "cell_type": "code",
   "execution_count": 2,
   "id": "7140b034",
   "metadata": {},
   "outputs": [
    {
     "name": "stdout",
     "output_type": "stream",
     "text": [
      "adoydE\n"
     ]
    }
   ],
   "source": [
    "str = \"Edyoda\"\n",
    "print(str[-1:-7:-1])"
   ]
  },
  {
   "cell_type": "code",
   "execution_count": 4,
   "id": "d0b9c25d",
   "metadata": {},
   "outputs": [
    {
     "name": "stdout",
     "output_type": "stream",
     "text": [
      "Number of even numbers: 4\n",
      "Number of odd numbers: 5\n"
     ]
    }
   ],
   "source": [
    "list = [1,2,3,4,5,6,7,8,9]\n",
    "even = 0\n",
    "odd = 0\n",
    "for i in list:\n",
    "    if i%2==0:\n",
    "        even = even + 1\n",
    "    else:\n",
    "        odd = odd + 1\n",
    "print(\"Number of even numbers:\",even)\n",
    "print(\"Number of odd numbers:\",odd)\n"
   ]
  },
  {
   "cell_type": "code",
   "execution_count": null,
   "id": "1b0cba9f",
   "metadata": {},
   "outputs": [],
   "source": []
  }
 ],
 "metadata": {
  "kernelspec": {
   "display_name": "Python 3 (ipykernel)",
   "language": "python",
   "name": "python3"
  },
  "language_info": {
   "codemirror_mode": {
    "name": "ipython",
    "version": 3
   },
   "file_extension": ".py",
   "mimetype": "text/x-python",
   "name": "python",
   "nbconvert_exporter": "python",
   "pygments_lexer": "ipython3",
   "version": "3.10.9"
  }
 },
 "nbformat": 4,
 "nbformat_minor": 5
}
